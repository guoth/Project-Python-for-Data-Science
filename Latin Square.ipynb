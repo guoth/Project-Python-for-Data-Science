{
  "nbformat": 4,
  "nbformat_minor": 0,
  "metadata": {
    "colab": {
      "provenance": []
    },
    "kernelspec": {
      "name": "python3",
      "display_name": "Python 3"
    },
    "language_info": {
      "name": "python"
    }
  },
  "cells": [
    {
      "cell_type": "code",
      "execution_count": null,
      "metadata": {
        "id": "WL4KsijQy6X5"
      },
      "outputs": [],
      "source": [
        "import numpy as np\n",
        "import itertools\n",
        "\n",
        "def generate_combinations_with_target_sum(n,k):\n",
        "    initial_set={i for i in range(1,n+1)}\n",
        "    combinations = list(itertools.product(initial_set, repeat=n))  # produit cartésien\n",
        "    valid_combinations = [list(combo) for combo in combinations if sum(combo) == k]\n",
        "    return valid_combinations\n",
        "  #ça liste les combinaisons qui somment la trace\n",
        "\n",
        "def generate_combinations_matrix_target_sum(n,k):\n",
        "  matrices=[]\n",
        "  liste=generate_combinations_with_target_sum(n,k)\n",
        "  for i in range(len(liste)):\n",
        "    matrix = [[0] * n for _ in range(n)]\n",
        "    for j in range(n):\n",
        "        matrix[j][j] = liste[i][j]\n",
        "    matrices.append(matrix)\n",
        "  return (matrices)\n",
        "  #ça donne toutes les combinaisons de matrices dont la trace est égale au nombre cible k\n",
        "\n",
        "def is_valid(matrix, row, col, num,n):\n",
        "    # Vérifie si 'num' est déjà présent dans la ligne ou la colonne\n",
        "    for i in range(n):\n",
        "        if matrix[row][i] == num or matrix[i][col] == num:\n",
        "            return False\n",
        "    return True\n",
        "    #ça vérifie si le nombre qu'on va insérer dans le reste de la matrice est déjà présent ou pas\n",
        "\n",
        "def fill_matrix(matrix, row, col,n):\n",
        "    if row == n-1 and col == n:\n",
        "        return True  # Si on atteint la dernière case, la matrice est remplie\n",
        "\n",
        "    if col == n:\n",
        "        row += 1\n",
        "        col = 0  # Si on atteint la fin d'une ligne, passer à la ligne suivante\n",
        "\n",
        "    if matrix[row][col] != 0:\n",
        "        return fill_matrix(matrix, row, col + 1,n)  # Case déjà remplie, passer à la suivante\n",
        "\n",
        "    for num in range(1, n+1):\n",
        "        if is_valid(matrix, row, col, num, n):\n",
        "            matrix[row][col] = num  # Placer 'num' dans la case\n",
        "            if fill_matrix(matrix, row, col + 1,n):\n",
        "                return True  # Appel récursif pour la case suivante\n",
        "            matrix[row][col] = 0  # Si l'appel récursif échoue, réinitialiser la case\n",
        "\n",
        "    return False  # Aucune solution possible pour cette configuration\n",
        "    #la fonction renvoie une matrice remplie avec succès ou le message d'erreur le cas échant\n",
        "\n",
        "def  indicium(n,k):\n",
        "  matrix=generate_combinations_matrix_target_sum(n,k) #toutes les combinaisons possibles de matrice dont la trace égale au nombre cible k\n",
        "  for i in range(len(matrix)):         #chaque ligne de cette grosse matrice représente une combinaison possible de matrice dont la trace=k\n",
        "    if fill_matrix(matrix[i], 0, 0,n):    #essayer de remplir pour chaque combinaison\n",
        "      for j in range(len(matrix)):   #normalement ça doit donner la réponse sans une deuxième boucle,mais j'observe des cas où la réponse retournée contient des 0\n",
        "        res=np.array(matrix[j])     #donc j'ajoute une deuxième boucle j afin d'exclure les mauvaises réponses.\n",
        "        if not np.any(res==0):\n",
        "          return(res)\n",
        "        # Afficher la matrice remplie avec succès\n",
        "  return(\"Pas de solution possible.\")  # Afficher un message si aucune solution n'est trouvé"
      ]
    }
  ]
}